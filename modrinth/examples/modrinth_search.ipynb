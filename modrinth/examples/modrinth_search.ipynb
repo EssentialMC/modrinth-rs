{
 "cells": [
  {
   "cell_type": "markdown",
   "metadata": {},
   "source": [
    "# Examples for modrinth-ureq Queries\n",
    "\n",
    "The examples in this project are in a Jupyter notebook rather than cargo-runnable files because\n",
    "I prefer this for testing personally, and don't want to maintain two forms of examples.\n",
    "\n",
    "## How to Use\n",
    "\n",
    "You will need the `evcxr` Jupyter kernel. Install it with the following command.\n",
    "\n",
    "```bash\n",
    "$ cargo install evcxr_repl evcxr_jupyter\n",
    "```\n",
    "\n",
    "Note that while `evcxr_repl` isn't necessary, you may play with it and find it useful.\n",
    "\n",
    "**The cells in this notebook need to be run in order.**\n",
    "\n",
    "Some are independant, but for the majority, proper order is top-down. Note that all examples\n",
    "require the import in the first cell. Change the path of the dependency statement to match the location\n",
    "of the `modrinth` crate root based on where you put the files.\n",
    "\n",
    "Note that `evxcr` declarations (for dependencies for example) must come before comments."
   ]
  },
  {
   "cell_type": "code",
   "execution_count": null,
   "metadata": {},
   "outputs": [],
   "source": [
    ":dep modrinth = { path = \"/home/jacob/Documents/github.com/spikespaz/umapacker/modrinth\" }\n",
    "\n",
    "use modrinth::prelude::*;"
   ]
  },
  {
   "cell_type": "code",
   "execution_count": null,
   "metadata": {},
   "outputs": [],
   "source": [
    ":dep serde_json = { version = \"*\" }\n",
    "\n",
    "// This simply shows how the `SearchFacet` variants are going to be serialized for requests.\n",
    "// It also defines the variable `params` used in lower cells.\n",
    "\n",
    "let params = SearchParams {\n",
    "    query: None,\n",
    "    facets: Some(\n",
    "        vec![\n",
    "            vec![\n",
    "                SearchFacet::license(\"MIT\"),\n",
    "                SearchFacet::license(\"Apache\"),\n",
    "            ],\n",
    "            vec![\n",
    "                SearchFacet::category(\"fabric\"),\n",
    "            ],\n",
    "            vec![\n",
    "                SearchFacet::version(\"1.18\"),\n",
    "                SearchFacet::version(\"1.18.1\"),\n",
    "                SearchFacet::version(\"1.18.2\"),\n",
    "            ],\n",
    "        ]\n",
    "    ),\n",
    "    index: None,\n",
    "    offset: None,\n",
    "    limit: None,\n",
    "    filters: None,\n",
    "};\n",
    "\n",
    "println!(\"{}\", serde_json::to_string_pretty(&params).unwrap());"
   ]
  },
  {
   "cell_type": "code",
   "execution_count": null,
   "metadata": {},
   "outputs": [],
   "source": [
    "// Finally, this shows how the query parameters are going to be serialized with stardard URL encoding\n",
    "// before sending the string off to the request library.\n",
    "\n",
    "use modrinth::query_string::JsonQueryParams;\n",
    "\n",
    "println!(\"{}\", params.to_query_string());"
   ]
  },
  {
   "cell_type": "code",
   "execution_count": null,
   "metadata": {},
   "outputs": [],
   "source": [
    "// Make a search using the parameters defined in the one of the previous cells.\n",
    "// This will only show results up to the specified `limit` in the `SearchParams`,\n",
    "// or it uses the default 10 specified by the API. The default is not hard-coded,\n",
    "// so if the remote API changes the code here will use that new value.\n",
    "\n",
    "println!(\"{:#?}\", get_search(&params, None));"
   ]
  },
  {
   "cell_type": "code",
   "execution_count": null,
   "metadata": {},
   "outputs": [],
   "source": [
    "// The above example shows only the default of 10 results.\n",
    "// This one creates an iterator which handles the pagination for you, with a maximum\n",
    "// limit of 100 results per page. This upper limit is not enforced by this crate,\n",
    "// and using anything higher than what is specified as the maximum by the API\n",
    "// will result in undefined behavior.\n",
    "\n",
    "let mut iterator = get_search_iter(params.clone(), None);\n",
    "let mut count = 0;\n",
    "\n",
    "for result in &mut iterator {\n",
    "    match result {\n",
    "        Ok(result) => {\n",
    "            count += 1;\n",
    "            println!(\"{:?}\", result);\n",
    "        }\n",
    "        Err(error) => println!(\"\\nError: {:#?}\", error),\n",
    "    }\n",
    "}\n",
    "\n",
    "println!(\"\\nExpected results: {}\\nReceived results: {}\", iterator.size_hint().1.unwrap(), count);"
   ]
  },
  {
   "cell_type": "code",
   "execution_count": null,
   "metadata": {},
   "outputs": [],
   "source": [
    "// This is how you request a specific project. You can use a name/slug or a `Base62` identifier.\n",
    "\n",
    "println!(\"{:#?}\", get_project(&ProjectIdentifier::from(\"sodium\"), None));"
   ]
  },
  {
   "cell_type": "code",
   "execution_count": null,
   "metadata": {},
   "outputs": [],
   "source": [
    "// Here we get the versions available for a project by name.\n",
    "\n",
    "println!(\"{:#?}\", get_project_versions(&ProjectIdentifier::from(\"sodium\"), None))"
   ]
  }
 ],
 "metadata": {
  "interpreter": {
   "hash": "767d51c1340bd893661ea55ea3124f6de3c7a262a8b4abca0554b478b1e2ff90"
  },
  "kernelspec": {
   "display_name": "Rust",
   "language": "rust",
   "name": "rust"
  },
  "language_info": {
   "codemirror_mode": "rust",
   "file_extension": ".rs",
   "mimetype": "text/rust",
   "name": "Rust",
   "pygment_lexer": "rust",
   "version": ""
  },
  "orig_nbformat": 4
 },
 "nbformat": 4,
 "nbformat_minor": 2
}
