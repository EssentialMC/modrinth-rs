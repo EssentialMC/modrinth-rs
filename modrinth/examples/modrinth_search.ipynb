{
 "cells": [
  {
   "cell_type": "code",
   "execution_count": null,
   "metadata": {},
   "outputs": [],
   "source": [
    ":dep modrinth = { path = \"/home/jacob/Documents/github.com/spikespaz/umapacker/modrinth\" }\n",
    ":dep serde_json = { version = \"*\" }\n",
    "\n",
    "use modrinth::prelude::*;"
   ]
  },
  {
   "cell_type": "code",
   "execution_count": null,
   "metadata": {},
   "outputs": [],
   "source": [
    "let facets = vec![\n",
    "    vec![\n",
    "        SearchFacet::category(\"fabric\"),\n",
    "    ],\n",
    "    vec![\n",
    "        SearchFacet::version(\"1.18\"),\n",
    "        SearchFacet::version(\"1.18.1\"),\n",
    "        SearchFacet::version(\"1.18.2\"),\n",
    "    ],\n",
    "];\n",
    "\n",
    "println!(\"{}\", serde_json::to_string_pretty(&facets).unwrap());"
   ]
  },
  {
   "cell_type": "code",
   "execution_count": null,
   "metadata": {},
   "outputs": [],
   "source": [
    "let params = SearchParams {\n",
    "    query: Some(\"grave\".to_owned()),\n",
    "    facets: Some(facets),\n",
    "    index: None,\n",
    "    offset: None,\n",
    "    limit: None,\n",
    "};\n",
    "\n",
    "println!(\"{}\", serde_json::to_string_pretty(&params).unwrap());"
   ]
  },
  {
   "cell_type": "code",
   "execution_count": null,
   "metadata": {},
   "outputs": [],
   "source": [
    "println!(\"{:#?}\", get_project(&ProjectIdentifier::from(\"sodium\"), None));"
   ]
  },
  {
   "cell_type": "code",
   "execution_count": null,
   "metadata": {},
   "outputs": [],
   "source": [
    "let params = SearchParams {\n",
    "    query: None,\n",
    "    facets: Some(\n",
    "        vec![\n",
    "            vec![\n",
    "                SearchFacet::license(\"MIT\"),\n",
    "                SearchFacet::license(\"Apache\"),\n",
    "            ],\n",
    "            vec![\n",
    "                SearchFacet::version(\"1.18\"),\n",
    "                SearchFacet::version(\"1.18.1\"),\n",
    "                SearchFacet::version(\"1.18.2\")\n",
    "            ]\n",
    "        ]\n",
    "    ),\n",
    "    index: None,\n",
    "    offset: None,\n",
    "    limit: Some(100),\n",
    "};\n",
    "\n",
    "println!(\"{}\", params.to_query_string());\n"
   ]
  },
  {
   "cell_type": "code",
   "execution_count": null,
   "metadata": {},
   "outputs": [],
   "source": [
    "let results = get_search(&params, None).unwrap();\n",
    "\n",
    "println!(\"{:#?}\", results);"
   ]
  }
 ],
 "metadata": {
  "interpreter": {
   "hash": "767d51c1340bd893661ea55ea3124f6de3c7a262a8b4abca0554b478b1e2ff90"
  },
  "kernelspec": {
   "display_name": "Rust",
   "language": "rust",
   "name": "rust"
  },
  "language_info": {
   "codemirror_mode": "rust",
   "file_extension": ".rs",
   "mimetype": "text/rust",
   "name": "rust",
   "pygment_lexer": "rust",
   "version": ""
  },
  "orig_nbformat": 4
 },
 "nbformat": 4,
 "nbformat_minor": 2
}
